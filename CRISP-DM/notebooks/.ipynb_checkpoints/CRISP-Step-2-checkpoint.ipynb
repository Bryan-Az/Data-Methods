{
 "cells": [
  {
   "cell_type": "code",
   "execution_count": 4,
   "id": "6849d9d5-0210-4aec-89d7-a8d3cc1b9570",
   "metadata": {
    "scrolled": true
   },
   "outputs": [
    {
     "name": "stdout",
     "output_type": "stream",
     "text": [
      "\u001b[33mWARNING: The directory '/home/jovyan/.cache/pip' or its parent directory is not owned or is not writable by the current user. The cache has been disabled. Check the permissions and owner of that directory. If executing pip with sudo, you should use sudo's -H flag.\u001b[0m\u001b[33m\n",
      "\u001b[0mCollecting python-outbreak-info\n",
      "  Downloading python_outbreak_info-1.0.1.tar.gz (11 kB)\n",
      "  Preparing metadata (setup.py) ... \u001b[?25ldone\n",
      "\u001b[?25hRequirement already satisfied: numpy in /opt/conda/lib/python3.11/site-packages (from python-outbreak-info) (1.24.4)\n",
      "Requirement already satisfied: pandas in /opt/conda/lib/python3.11/site-packages (from python-outbreak-info) (2.1.0)\n",
      "Requirement already satisfied: requests in /opt/conda/lib/python3.11/site-packages (from python-outbreak-info) (2.31.0)\n",
      "Requirement already satisfied: python-dateutil>=2.8.2 in /opt/conda/lib/python3.11/site-packages (from pandas->python-outbreak-info) (2.8.2)\n",
      "Requirement already satisfied: pytz>=2020.1 in /opt/conda/lib/python3.11/site-packages (from pandas->python-outbreak-info) (2023.3.post1)\n",
      "Requirement already satisfied: tzdata>=2022.1 in /opt/conda/lib/python3.11/site-packages (from pandas->python-outbreak-info) (2023.3)\n",
      "Requirement already satisfied: charset-normalizer<4,>=2 in /opt/conda/lib/python3.11/site-packages (from requests->python-outbreak-info) (3.2.0)\n",
      "Requirement already satisfied: idna<4,>=2.5 in /opt/conda/lib/python3.11/site-packages (from requests->python-outbreak-info) (3.4)\n",
      "Requirement already satisfied: urllib3<3,>=1.21.1 in /opt/conda/lib/python3.11/site-packages (from requests->python-outbreak-info) (2.0.4)\n",
      "Requirement already satisfied: certifi>=2017.4.17 in /opt/conda/lib/python3.11/site-packages (from requests->python-outbreak-info) (2023.7.22)\n",
      "Requirement already satisfied: six>=1.5 in /opt/conda/lib/python3.11/site-packages (from python-dateutil>=2.8.2->pandas->python-outbreak-info) (1.16.0)\n",
      "Building wheels for collected packages: python-outbreak-info\n",
      "  Building wheel for python-outbreak-info (setup.py) ... \u001b[?25ldone\n",
      "\u001b[?25h  Created wheel for python-outbreak-info: filename=python_outbreak_info-1.0.1-py3-none-any.whl size=12453 sha256=546bd6941d90135df3c4b58262ebe95a82e423d971ac2ce9c637675dded171bb\n",
      "  Stored in directory: /tmp/pip-ephem-wheel-cache-cdi49qhs/wheels/ff/3d/44/3a5da4dc02906a96ffb7cf82a12233b81f6fa4018f754f0a73\n",
      "Successfully built python-outbreak-info\n",
      "Installing collected packages: python-outbreak-info\n",
      "Successfully installed python-outbreak-info-1.0.1\n",
      "\u001b[33mWARNING: Running pip as the 'root' user can result in broken permissions and conflicting behaviour with the system package manager. It is recommended to use a virtual environment instead: https://pip.pypa.io/warnings/venv\u001b[0m\u001b[33m\n",
      "\u001b[0mNote: you may need to restart the kernel to use updated packages.\n"
     ]
    }
   ],
   "source": [
    "pip install python-outbreak-info"
   ]
  },
  {
   "cell_type": "code",
   "execution_count": 5,
   "id": "1f3a6571-3454-4469-8914-8dbf55f983f5",
   "metadata": {},
   "outputs": [
    {
     "name": "stdout",
     "output_type": "stream",
     "text": [
      "Please open this url in a web browswer and authenticate with your GISAID credentials:  https://gpsapi.epicov.org/epi3/gps_authenticate/HUMRBZFGVNOPFTQQPTSYNXFEQMDOMKRPWEKUPFPFRLXPKPVZUKUTSYLHAKFFZEYVZLEBLZXLLVZCJPQMUIHIDGMBBFYZGCHVFMEBMQKSLSPUKDXSOCQTOBWOOHAMBOET\n",
      "Waiting for authorization response... [Press Ctrl-C to abort]\n",
      "Authenication failed, trying again in 5 seconds...\n",
      "Waiting for authorization response... [Press Ctrl-C to abort]\n",
      "Authenication failed, trying again in 5 seconds...\n",
      "Waiting for authorization response... [Press Ctrl-C to abort]\n",
      "Authenication failed, trying again in 5 seconds...\n",
      "Waiting for authorization response... [Press Ctrl-C to abort]\n",
      "Authenication failed, trying again in 5 seconds...\n",
      "Waiting for authorization response... [Press Ctrl-C to abort]\n",
      "Authenication failed, trying again in 5 seconds...\n",
      "Waiting for authorization response... [Press Ctrl-C to abort]\n",
      "Authenication failed, trying again in 5 seconds...\n",
      "Waiting for authorization response... [Press Ctrl-C to abort]\n",
      "Authenication failed, trying again in 5 seconds...\n",
      "Waiting for authorization response... [Press Ctrl-C to abort]\n",
      "Authenication failed, trying again in 5 seconds...\n",
      "Waiting for authorization response... [Press Ctrl-C to abort]\n",
      "Authenication failed, trying again in 5 seconds...\n",
      "Aborting, please try again.\n"
     ]
    }
   ],
   "source": [
    "from outbreak_data import authenticate_user\n",
    "authenticate_user.authenticate_new_user()"
   ]
  },
  {
   "cell_type": "code",
   "execution_count": null,
   "id": "4040213d-d1bd-41f4-a039-181d5cba3690",
   "metadata": {},
   "outputs": [],
   "source": []
  }
 ],
 "metadata": {
  "kernelspec": {
   "display_name": "test-env",
   "language": "python",
   "name": "test-env"
  },
  "language_info": {
   "codemirror_mode": {
    "name": "ipython",
    "version": 3
   },
   "file_extension": ".py",
   "mimetype": "text/x-python",
   "name": "python",
   "nbconvert_exporter": "python",
   "pygments_lexer": "ipython3",
   "version": "3.11.5"
  }
 },
 "nbformat": 4,
 "nbformat_minor": 5
}
