{
 "cells": [
  {
   "cell_type": "code",
   "execution_count": 4,
   "id": "6849d9d5-0210-4aec-89d7-a8d3cc1b9570",
   "metadata": {
    "scrolled": true
   },
   "outputs": [
    {
     "name": "stdout",
     "output_type": "stream",
     "text": [
      "\u001b[33mWARNING: The directory '/home/jovyan/.cache/pip' or its parent directory is not owned or is not writable by the current user. The cache has been disabled. Check the permissions and owner of that directory. If executing pip with sudo, you should use sudo's -H flag.\u001b[0m\u001b[33m\n",
      "\u001b[0mCollecting python-outbreak-info\n",
      "  Downloading python_outbreak_info-1.0.1.tar.gz (11 kB)\n",
      "  Preparing metadata (setup.py) ... \u001b[?25ldone\n",
      "\u001b[?25hRequirement already satisfied: numpy in /opt/conda/lib/python3.11/site-packages (from python-outbreak-info) (1.24.4)\n",
      "Requirement already satisfied: pandas in /opt/conda/lib/python3.11/site-packages (from python-outbreak-info) (2.1.0)\n",
      "Requirement already satisfied: requests in /opt/conda/lib/python3.11/site-packages (from python-outbreak-info) (2.31.0)\n",
      "Requirement already satisfied: python-dateutil>=2.8.2 in /opt/conda/lib/python3.11/site-packages (from pandas->python-outbreak-info) (2.8.2)\n",
      "Requirement already satisfied: pytz>=2020.1 in /opt/conda/lib/python3.11/site-packages (from pandas->python-outbreak-info) (2023.3.post1)\n",
      "Requirement already satisfied: tzdata>=2022.1 in /opt/conda/lib/python3.11/site-packages (from pandas->python-outbreak-info) (2023.3)\n",
      "Requirement already satisfied: charset-normalizer<4,>=2 in /opt/conda/lib/python3.11/site-packages (from requests->python-outbreak-info) (3.2.0)\n",
      "Requirement already satisfied: idna<4,>=2.5 in /opt/conda/lib/python3.11/site-packages (from requests->python-outbreak-info) (3.4)\n",
      "Requirement already satisfied: urllib3<3,>=1.21.1 in /opt/conda/lib/python3.11/site-packages (from requests->python-outbreak-info) (2.0.4)\n",
      "Requirement already satisfied: certifi>=2017.4.17 in /opt/conda/lib/python3.11/site-packages (from requests->python-outbreak-info) (2023.7.22)\n",
      "Requirement already satisfied: six>=1.5 in /opt/conda/lib/python3.11/site-packages (from python-dateutil>=2.8.2->pandas->python-outbreak-info) (1.16.0)\n",
      "Building wheels for collected packages: python-outbreak-info\n",
      "  Building wheel for python-outbreak-info (setup.py) ... \u001b[?25ldone\n",
      "\u001b[?25h  Created wheel for python-outbreak-info: filename=python_outbreak_info-1.0.1-py3-none-any.whl size=12453 sha256=546bd6941d90135df3c4b58262ebe95a82e423d971ac2ce9c637675dded171bb\n",
      "  Stored in directory: /tmp/pip-ephem-wheel-cache-cdi49qhs/wheels/ff/3d/44/3a5da4dc02906a96ffb7cf82a12233b81f6fa4018f754f0a73\n",
      "Successfully built python-outbreak-info\n",
      "Installing collected packages: python-outbreak-info\n",
      "Successfully installed python-outbreak-info-1.0.1\n",
      "\u001b[33mWARNING: Running pip as the 'root' user can result in broken permissions and conflicting behaviour with the system package manager. It is recommended to use a virtual environment instead: https://pip.pypa.io/warnings/venv\u001b[0m\u001b[33m\n",
      "\u001b[0mNote: you may need to restart the kernel to use updated packages.\n"
     ]
    }
   ],
   "source": [
    "pip install python-outbreak-info"
   ]
  },
  {
   "cell_type": "code",
   "execution_count": 9,
   "id": "57f77697-c13e-4660-b2aa-9a5e9e60e41a",
   "metadata": {},
   "outputs": [],
   "source": [
    "import pandas as pd\n",
    "import altair as alt\n",
    "from outbreak_data import authenticate_user"
   ]
  },
  {
   "cell_type": "code",
   "execution_count": 5,
   "id": "1f3a6571-3454-4469-8914-8dbf55f983f5",
   "metadata": {},
   "outputs": [
    {
     "name": "stdout",
     "output_type": "stream",
     "text": [
      "Please open this url in a web browswer and authenticate with your GISAID credentials:  https://gpsapi.epicov.org/epi3/gps_authenticate/HUMRBZFGVNOPFTQQPTSYNXFEQMDOMKRPWEKUPFPFRLXPKPVZUKUTSYLHAKFFZEYVZLEBLZXLLVZCJPQMUIHIDGMBBFYZGCHVFMEBMQKSLSPUKDXSOCQTOBWOOHAMBOET\n",
      "Waiting for authorization response... [Press Ctrl-C to abort]\n",
      "Authenication failed, trying again in 5 seconds...\n",
      "Waiting for authorization response... [Press Ctrl-C to abort]\n",
      "Authenication failed, trying again in 5 seconds...\n",
      "Waiting for authorization response... [Press Ctrl-C to abort]\n",
      "Authenication failed, trying again in 5 seconds...\n",
      "Waiting for authorization response... [Press Ctrl-C to abort]\n",
      "Authenication failed, trying again in 5 seconds...\n",
      "Waiting for authorization response... [Press Ctrl-C to abort]\n",
      "Authenication failed, trying again in 5 seconds...\n",
      "Waiting for authorization response... [Press Ctrl-C to abort]\n",
      "Authenication failed, trying again in 5 seconds...\n",
      "Waiting for authorization response... [Press Ctrl-C to abort]\n",
      "Authenication failed, trying again in 5 seconds...\n",
      "Waiting for authorization response... [Press Ctrl-C to abort]\n",
      "Authenication failed, trying again in 5 seconds...\n",
      "Waiting for authorization response... [Press Ctrl-C to abort]\n",
      "Authenication failed, trying again in 5 seconds...\n",
      "Aborting, please try again.\n"
     ]
    }
   ],
   "source": [
    "# Authenticating as user to have access to the data\n",
    "authenticate_user.authenticate_new_user()"
   ]
  },
  {
   "cell_type": "code",
   "execution_count": 3,
   "id": "4040213d-d1bd-41f4-a039-181d5cba3690",
   "metadata": {},
   "outputs": [],
   "source": [
    "from outbreak_data import outbreak_data"
   ]
  },
  {
   "cell_type": "markdown",
   "id": "cc69ed32-2515-4ee3-90cf-de3a92d68369",
   "metadata": {},
   "source": [
    "# Goal: Extract CSV tabular data"
   ]
  },
  {
   "cell_type": "markdown",
   "id": "d47206f8-edd2-44d0-984b-0006132e2d3d",
   "metadata": {},
   "source": [
    "## Table 1: Cases by Location\n",
    "Taking data from Country, but can also select by State or Region.\n",
    "For the purpose of this project, I will select all states within the USA.\n",
    "Contains total cases per location for the latest 3-months of collected data, totals contain all possible Sars-COV-2 lineages."
   ]
  },
  {
   "cell_type": "code",
   "execution_count": 4,
   "id": "277be257-48e3-4703-bd75-aacdf0905f3f",
   "metadata": {},
   "outputs": [
    {
     "ename": "TypeError",
     "evalue": "get_outbreak_data() missing 2 required positional arguments: 'endpoint' and 'argstring'",
     "output_type": "error",
     "traceback": [
      "\u001b[0;31m---------------------------------------------------------------------------\u001b[0m",
      "\u001b[0;31mTypeError\u001b[0m                                 Traceback (most recent call last)",
      "Cell \u001b[0;32mIn[4], line 1\u001b[0m\n\u001b[0;32m----> 1\u001b[0m \u001b[43moutbreak_data\u001b[49m\u001b[38;5;241;43m.\u001b[39;49m\u001b[43mget_outbreak_data\u001b[49m\u001b[43m(\u001b[49m\u001b[43m)\u001b[49m\n",
      "\u001b[0;31mTypeError\u001b[0m: get_outbreak_data() missing 2 required positional arguments: 'endpoint' and 'argstring'"
     ]
    }
   ],
   "source": [
    "# Using the outbreak_data.get_outbreak_data() method to access the raw data\n",
    "#outbreak_data.get_outbreak_data(argstring='', endpoint='api.outbreak.info')"
   ]
  },
  {
   "cell_type": "code",
   "execution_count": 17,
   "id": "b20c30ac-d9d4-4b6f-9d90-ad54bff779a3",
   "metadata": {},
   "outputs": [],
   "source": [
    "counts_ca = outbreak_data.cases_by_location('USA_US-CA')\n",
    "counts_ny = outbreak_data.cases_by_location('USA_US-NY')\n",
    "counts_fl = outbreak_data.cases_by_location('USA_US-FL')\n",
    "counts_wa = outbreak_data.cases_by_location('USA_US-WA')\n",
    "\n",
    "state_count = pd.concat([counts_ca, counts_ny, counts_fl, counts_wa])\n",
    "state_count = state_count.rename(columns={\"admin1\": \"location\"})\n",
    "state_count = state_count.sort_values(by = \"date\")\n"
   ]
  },
  {
   "cell_type": "markdown",
   "id": "d89c83f3-9e36-4944-b1cd-68783da34888",
   "metadata": {},
   "source": [
    "As of 9-15-23, the most recent collected data is from 03-08-23"
   ]
  },
  {
   "cell_type": "code",
   "execution_count": 18,
   "id": "209fffb3-d947-435b-ac88-0e45992a1546",
   "metadata": {},
   "outputs": [
    {
     "name": "stderr",
     "output_type": "stream",
     "text": [
      "/opt/conda/lib/python3.11/site-packages/altair/utils/core.py:410: FutureWarning: the convert_dtype parameter is deprecated and will be removed in a future version.  Do ``ser.astype(object).apply()`` instead if you want ``convert_dtype=False``.\n",
      "  col = df[col_name].apply(to_list_if_array, convert_dtype=False)\n",
      "/opt/conda/lib/python3.11/site-packages/altair/utils/core.py:410: FutureWarning: the convert_dtype parameter is deprecated and will be removed in a future version.  Do ``ser.astype(object).apply()`` instead if you want ``convert_dtype=False``.\n",
      "  col = df[col_name].apply(to_list_if_array, convert_dtype=False)\n",
      "/opt/conda/lib/python3.11/site-packages/altair/utils/core.py:410: FutureWarning: the convert_dtype parameter is deprecated and will be removed in a future version.  Do ``ser.astype(object).apply()`` instead if you want ``convert_dtype=False``.\n",
      "  col = df[col_name].apply(to_list_if_array, convert_dtype=False)\n"
     ]
    },
    {
     "data": {
      "text/html": [
       "\n",
       "<style>\n",
       "  #altair-viz-e9a74a3e791a4b08ad16e8c29c8a9232.vega-embed {\n",
       "    width: 100%;\n",
       "    display: flex;\n",
       "  }\n",
       "\n",
       "  #altair-viz-e9a74a3e791a4b08ad16e8c29c8a9232.vega-embed details,\n",
       "  #altair-viz-e9a74a3e791a4b08ad16e8c29c8a9232.vega-embed details summary {\n",
       "    position: relative;\n",
       "  }\n",
       "</style>\n",
       "<div id=\"altair-viz-e9a74a3e791a4b08ad16e8c29c8a9232\"></div>\n",
       "<script type=\"text/javascript\">\n",
       "  var VEGA_DEBUG = (typeof VEGA_DEBUG == \"undefined\") ? {} : VEGA_DEBUG;\n",
       "  (function(spec, embedOpt){\n",
       "    let outputDiv = document.currentScript.previousElementSibling;\n",
       "    if (outputDiv.id !== \"altair-viz-e9a74a3e791a4b08ad16e8c29c8a9232\") {\n",
       "      outputDiv = document.getElementById(\"altair-viz-e9a74a3e791a4b08ad16e8c29c8a9232\");\n",
       "    }\n",
       "    const paths = {\n",
       "      \"vega\": \"https://cdn.jsdelivr.net/npm/vega@5?noext\",\n",
       "      \"vega-lib\": \"https://cdn.jsdelivr.net/npm/vega-lib?noext\",\n",
       "      \"vega-lite\": \"https://cdn.jsdelivr.net/npm/vega-lite@5.14.1?noext\",\n",
       "      \"vega-embed\": \"https://cdn.jsdelivr.net/npm/vega-embed@6?noext\",\n",
       "    };\n",
       "\n",
       "    function maybeLoadScript(lib, version) {\n",
       "      var key = `${lib.replace(\"-\", \"\")}_version`;\n",
       "      return (VEGA_DEBUG[key] == version) ?\n",
       "        Promise.resolve(paths[lib]) :\n",
       "        new Promise(function(resolve, reject) {\n",
       "          var s = document.createElement('script');\n",
       "          document.getElementsByTagName(\"head\")[0].appendChild(s);\n",
       "          s.async = true;\n",
       "          s.onload = () => {\n",
       "            VEGA_DEBUG[key] = version;\n",
       "            return resolve(paths[lib]);\n",
       "          };\n",
       "          s.onerror = () => reject(`Error loading script: ${paths[lib]}`);\n",
       "          s.src = paths[lib];\n",
       "        });\n",
       "    }\n",
       "\n",
       "    function showError(err) {\n",
       "      outputDiv.innerHTML = `<div class=\"error\" style=\"color:red;\">${err}</div>`;\n",
       "      throw err;\n",
       "    }\n",
       "\n",
       "    function displayChart(vegaEmbed) {\n",
       "      vegaEmbed(outputDiv, spec, embedOpt)\n",
       "        .catch(err => showError(`Javascript Error: ${err.message}<br>This usually means there's a typo in your chart specification. See the javascript console for the full traceback.`));\n",
       "    }\n",
       "\n",
       "    if(typeof define === \"function\" && define.amd) {\n",
       "      requirejs.config({paths});\n",
       "      require([\"vega-embed\"], displayChart, err => showError(`Error loading script: ${err.message}`));\n",
       "    } else {\n",
       "      maybeLoadScript(\"vega\", \"5\")\n",
       "        .then(() => maybeLoadScript(\"vega-lite\", \"5.14.1\"))\n",
       "        .then(() => maybeLoadScript(\"vega-embed\", \"6\"))\n",
       "        .catch(showError)\n",
       "        .then(() => displayChart(vegaEmbed));\n",
       "    }\n",
       "  })({\"config\": {\"view\": {\"continuousWidth\": 300, \"continuousHeight\": 300}}, \"data\": {\"name\": \"data-99e59e7b179fb7f7ef1d4c28ee7e818c\"}, \"mark\": {\"type\": \"line\"}, \"encoding\": {\"color\": {\"field\": \"location\", \"type\": \"nominal\"}, \"x\": {\"field\": \"date\", \"type\": \"temporal\"}, \"y\": {\"field\": \"confirmed_numIncrease\", \"type\": \"quantitative\"}}, \"params\": [{\"name\": \"param_2\", \"select\": {\"type\": \"interval\", \"encodings\": [\"x\", \"y\"]}, \"bind\": \"scales\"}], \"title\": \" 90 Day SARS-COV-2 Case Count Increase in Four States\", \"$schema\": \"https://vega.github.io/schema/vega-lite/v5.14.1.json\", \"datasets\": {\"data-99e59e7b179fb7f7ef1d4c28ee7e818c\": [{\"_id\": \"USA_Florida_None2023-02-01\", \"_score\": 8.344111, \"location\": \"Florida\", \"confirmed_numIncrease\": 0, \"date\": \"2023-02-01\"}, {\"_id\": \"USA_California_None2023-02-01\", \"_score\": 8.418888, \"location\": \"California\", \"confirmed_numIncrease\": 1927, \"date\": \"2023-02-01\"}, {\"_id\": \"USA_Washington_None2023-02-01\", \"_score\": 8.384675, \"location\": \"Washington\", \"confirmed_numIncrease\": 0, \"date\": \"2023-02-01\"}, {\"_id\": \"USA_NewYork_None2023-02-01\", \"_score\": 8.408236, \"location\": \"New York\", \"confirmed_numIncrease\": 2982, \"date\": \"2023-02-01\"}, {\"_id\": \"USA_Washington_None2023-02-02\", \"_score\": 8.384675, \"location\": \"Washington\", \"confirmed_numIncrease\": 5575, \"date\": \"2023-02-02\"}, {\"_id\": \"USA_California_None2023-02-02\", \"_score\": 8.418888, \"location\": \"California\", \"confirmed_numIncrease\": 6172, \"date\": \"2023-02-02\"}, {\"_id\": \"USA_NewYork_None2023-02-02\", \"_score\": 8.408236, \"location\": \"New York\", \"confirmed_numIncrease\": 4185, \"date\": \"2023-02-02\"}, {\"_id\": \"USA_Florida_None2023-02-02\", \"_score\": 8.344111, \"location\": \"Florida\", \"confirmed_numIncrease\": 21062, \"date\": \"2023-02-02\"}, {\"_id\": \"USA_Florida_None2023-02-03\", \"_score\": 8.502508, \"location\": \"Florida\", \"confirmed_numIncrease\": 18841, \"date\": \"2023-02-03\"}, {\"_id\": \"USA_California_None2023-02-03\", \"_score\": 8.413436, \"location\": \"California\", \"confirmed_numIncrease\": 2478, \"date\": \"2023-02-03\"}, {\"_id\": \"USA_NewYork_None2023-02-03\", \"_score\": 8.408236, \"location\": \"New York\", \"confirmed_numIncrease\": 3927, \"date\": \"2023-02-03\"}, {\"_id\": \"USA_Washington_None2023-02-03\", \"_score\": 8.384675, \"location\": \"Washington\", \"confirmed_numIncrease\": 0, \"date\": \"2023-02-03\"}, {\"_id\": \"USA_NewYork_None2023-02-04\", \"_score\": 8.385553, \"location\": \"New York\", \"confirmed_numIncrease\": 1578, \"date\": \"2023-02-04\"}, {\"_id\": \"USA_Washington_None2023-02-04\", \"_score\": 8.419768, \"location\": \"Washington\", \"confirmed_numIncrease\": 0, \"date\": \"2023-02-04\"}, {\"_id\": \"USA_Florida_None2023-02-04\", \"_score\": 8.502508, \"location\": \"Florida\", \"confirmed_numIncrease\": 0, \"date\": \"2023-02-04\"}, {\"_id\": \"USA_California_None2023-02-04\", \"_score\": 8.419768, \"location\": \"California\", \"confirmed_numIncrease\": 141, \"date\": \"2023-02-04\"}, {\"_id\": \"USA_Florida_None2023-02-05\", \"_score\": 8.344111, \"location\": \"Florida\", \"confirmed_numIncrease\": 0, \"date\": \"2023-02-05\"}, {\"_id\": \"USA_NewYork_None2023-02-05\", \"_score\": 8.459766, \"location\": \"New York\", \"confirmed_numIncrease\": 1165, \"date\": \"2023-02-05\"}, {\"_id\": \"USA_Washington_None2023-02-05\", \"_score\": 8.384675, \"location\": \"Washington\", \"confirmed_numIncrease\": 0, \"date\": \"2023-02-05\"}, {\"_id\": \"USA_California_None2023-02-05\", \"_score\": 8.419768, \"location\": \"California\", \"confirmed_numIncrease\": 167, \"date\": \"2023-02-05\"}, {\"_id\": \"USA_California_None2023-02-06\", \"_score\": 8.419768, \"location\": \"California\", \"confirmed_numIncrease\": 2479, \"date\": \"2023-02-06\"}, {\"_id\": \"USA_Washington_None2023-02-06\", \"_score\": 8.44867, \"location\": \"Washington\", \"confirmed_numIncrease\": 0, \"date\": \"2023-02-06\"}, {\"_id\": \"USA_Florida_None2023-02-06\", \"_score\": 8.502508, \"location\": \"Florida\", \"confirmed_numIncrease\": 0, \"date\": \"2023-02-06\"}, {\"_id\": \"USA_NewYork_None2023-02-06\", \"_score\": 8.459766, \"location\": \"New York\", \"confirmed_numIncrease\": 4946, \"date\": \"2023-02-06\"}, {\"_id\": \"USA_California_None2023-02-07\", \"_score\": 8.418888, \"location\": \"California\", \"confirmed_numIncrease\": 6724, \"date\": \"2023-02-07\"}, {\"_id\": \"USA_Washington_None2023-02-07\", \"_score\": 8.44867, \"location\": \"Washington\", \"confirmed_numIncrease\": 0, \"date\": \"2023-02-07\"}, {\"_id\": \"USA_NewYork_None2023-02-07\", \"_score\": 8.459766, \"location\": \"New York\", \"confirmed_numIncrease\": 1805, \"date\": \"2023-02-07\"}, {\"_id\": \"USA_Florida_None2023-02-07\", \"_score\": 8.502508, \"location\": \"Florida\", \"confirmed_numIncrease\": 0, \"date\": \"2023-02-07\"}, {\"_id\": \"USA_Florida_None2023-02-08\", \"_score\": 8.344111, \"location\": \"Florida\", \"confirmed_numIncrease\": 0, \"date\": \"2023-02-08\"}, {\"_id\": \"USA_Washington_None2023-02-08\", \"_score\": 8.44867, \"location\": \"Washington\", \"confirmed_numIncrease\": 5508, \"date\": \"2023-02-08\"}, {\"_id\": \"USA_California_None2023-02-08\", \"_score\": 8.413436, \"location\": \"California\", \"confirmed_numIncrease\": 283, \"date\": \"2023-02-08\"}, {\"_id\": \"USA_NewYork_None2023-02-08\", \"_score\": 8.385553, \"location\": \"New York\", \"confirmed_numIncrease\": 2400, \"date\": \"2023-02-08\"}, {\"_id\": \"USA_California_None2023-02-09\", \"_score\": 8.419768, \"location\": \"California\", \"confirmed_numIncrease\": 11372, \"date\": \"2023-02-09\"}, {\"_id\": \"USA_Washington_None2023-02-09\", \"_score\": 8.419768, \"location\": \"Washington\", \"confirmed_numIncrease\": 5, \"date\": \"2023-02-09\"}, {\"_id\": \"USA_Florida_None2023-02-09\", \"_score\": 8.411768, \"location\": \"Florida\", \"confirmed_numIncrease\": 0, \"date\": \"2023-02-09\"}, {\"_id\": \"USA_NewYork_None2023-02-09\", \"_score\": 8.408236, \"location\": \"New York\", \"confirmed_numIncrease\": 3555, \"date\": \"2023-02-09\"}, {\"_id\": \"USA_Florida_None2023-02-10\", \"_score\": 8.344111, \"location\": \"Florida\", \"confirmed_numIncrease\": 0, \"date\": \"2023-02-10\"}, {\"_id\": \"USA_Washington_None2023-02-10\", \"_score\": 8.384675, \"location\": \"Washington\", \"confirmed_numIncrease\": 0, \"date\": \"2023-02-10\"}, {\"_id\": \"USA_NewYork_None2023-02-10\", \"_score\": 8.385553, \"location\": \"New York\", \"confirmed_numIncrease\": 3071, \"date\": \"2023-02-10\"}, {\"_id\": \"USA_California_None2023-02-10\", \"_score\": 8.419768, \"location\": \"California\", \"confirmed_numIncrease\": 2248, \"date\": \"2023-02-10\"}, {\"_id\": \"USA_Washington_None2023-02-11\", \"_score\": 8.384675, \"location\": \"Washington\", \"confirmed_numIncrease\": 0, \"date\": \"2023-02-11\"}, {\"_id\": \"USA_California_None2023-02-11\", \"_score\": 8.413436, \"location\": \"California\", \"confirmed_numIncrease\": 131, \"date\": \"2023-02-11\"}, {\"_id\": \"USA_NewYork_None2023-02-11\", \"_score\": 8.385553, \"location\": \"New York\", \"confirmed_numIncrease\": 1352, \"date\": \"2023-02-11\"}, {\"_id\": \"USA_Florida_None2023-02-11\", \"_score\": 8.411768, \"location\": \"Florida\", \"confirmed_numIncrease\": 0, \"date\": \"2023-02-11\"}, {\"_id\": \"USA_NewYork_None2023-02-12\", \"_score\": 8.408236, \"location\": \"New York\", \"confirmed_numIncrease\": 1083, \"date\": \"2023-02-12\"}, {\"_id\": \"USA_Florida_None2023-02-12\", \"_score\": 8.502508, \"location\": \"Florida\", \"confirmed_numIncrease\": 0, \"date\": \"2023-02-12\"}, {\"_id\": \"USA_Washington_None2023-02-12\", \"_score\": 8.419768, \"location\": \"Washington\", \"confirmed_numIncrease\": 0, \"date\": \"2023-02-12\"}, {\"_id\": \"USA_California_None2023-02-12\", \"_score\": 8.413436, \"location\": \"California\", \"confirmed_numIncrease\": 89, \"date\": \"2023-02-12\"}, {\"_id\": \"USA_Florida_None2023-02-13\", \"_score\": 8.344111, \"location\": \"Florida\", \"confirmed_numIncrease\": 0, \"date\": \"2023-02-13\"}, {\"_id\": \"USA_NewYork_None2023-02-13\", \"_score\": 8.459766, \"location\": \"New York\", \"confirmed_numIncrease\": 4195, \"date\": \"2023-02-13\"}, {\"_id\": \"USA_Washington_None2023-02-13\", \"_score\": 8.419768, \"location\": \"Washington\", \"confirmed_numIncrease\": 0, \"date\": \"2023-02-13\"}, {\"_id\": \"USA_California_None2023-02-13\", \"_score\": 8.413436, \"location\": \"California\", \"confirmed_numIncrease\": 140, \"date\": \"2023-02-13\"}, {\"_id\": \"USA_California_None2023-02-14\", \"_score\": 8.418888, \"location\": \"California\", \"confirmed_numIncrease\": 12740, \"date\": \"2023-02-14\"}, {\"_id\": \"USA_Washington_None2023-02-14\", \"_score\": 8.44867, \"location\": \"Washington\", \"confirmed_numIncrease\": 0, \"date\": \"2023-02-14\"}, {\"_id\": \"USA_Florida_None2023-02-14\", \"_score\": 8.344111, \"location\": \"Florida\", \"confirmed_numIncrease\": 0, \"date\": \"2023-02-14\"}, {\"_id\": \"USA_NewYork_None2023-02-14\", \"_score\": 8.385553, \"location\": \"New York\", \"confirmed_numIncrease\": 1924, \"date\": \"2023-02-14\"}, {\"_id\": \"USA_California_None2023-02-15\", \"_score\": 8.419768, \"location\": \"California\", \"confirmed_numIncrease\": 31, \"date\": \"2023-02-15\"}, {\"_id\": \"USA_Washington_None2023-02-15\", \"_score\": 8.384675, \"location\": \"Washington\", \"confirmed_numIncrease\": 4909, \"date\": \"2023-02-15\"}, {\"_id\": \"USA_Florida_None2023-02-15\", \"_score\": 8.344111, \"location\": \"Florida\", \"confirmed_numIncrease\": 0, \"date\": \"2023-02-15\"}, {\"_id\": \"USA_NewYork_None2023-02-15\", \"_score\": 8.385553, \"location\": \"New York\", \"confirmed_numIncrease\": 2454, \"date\": \"2023-02-15\"}, {\"_id\": \"USA_California_None2023-02-16\", \"_score\": 8.418888, \"location\": \"California\", \"confirmed_numIncrease\": 10699, \"date\": \"2023-02-16\"}, {\"_id\": \"USA_NewYork_None2023-02-16\", \"_score\": 8.385553, \"location\": \"New York\", \"confirmed_numIncrease\": 1348, \"date\": \"2023-02-16\"}, {\"_id\": \"USA_Washington_None2023-02-16\", \"_score\": 8.384675, \"location\": \"Washington\", \"confirmed_numIncrease\": 0, \"date\": \"2023-02-16\"}, {\"_id\": \"USA_Florida_None2023-02-16\", \"_score\": 8.411768, \"location\": \"Florida\", \"confirmed_numIncrease\": 0, \"date\": \"2023-02-16\"}, {\"_id\": \"USA_NewYork_None2023-02-17\", \"_score\": 8.459766, \"location\": \"New York\", \"confirmed_numIncrease\": 2633, \"date\": \"2023-02-17\"}, {\"_id\": \"USA_Washington_None2023-02-17\", \"_score\": 8.419768, \"location\": \"Washington\", \"confirmed_numIncrease\": 0, \"date\": \"2023-02-17\"}, {\"_id\": \"USA_California_None2023-02-17\", \"_score\": 8.419768, \"location\": \"California\", \"confirmed_numIncrease\": 1988, \"date\": \"2023-02-17\"}, {\"_id\": \"USA_Florida_None2023-02-17\", \"_score\": 8.411768, \"location\": \"Florida\", \"confirmed_numIncrease\": 33049, \"date\": \"2023-02-17\"}, {\"_id\": \"USA_Florida_None2023-02-18\", \"_score\": 8.411768, \"location\": \"Florida\", \"confirmed_numIncrease\": 0, \"date\": \"2023-02-18\"}, {\"_id\": \"USA_Washington_None2023-02-18\", \"_score\": 8.44867, \"location\": \"Washington\", \"confirmed_numIncrease\": 0, \"date\": \"2023-02-18\"}, {\"_id\": \"USA_NewYork_None2023-02-18\", \"_score\": 8.385553, \"location\": \"New York\", \"confirmed_numIncrease\": 0, \"date\": \"2023-02-18\"}, {\"_id\": \"USA_California_None2023-02-18\", \"_score\": 8.419768, \"location\": \"California\", \"confirmed_numIncrease\": 1, \"date\": \"2023-02-18\"}, {\"_id\": \"USA_Florida_None2023-02-19\", \"_score\": 8.411768, \"location\": \"Florida\", \"confirmed_numIncrease\": 0, \"date\": \"2023-02-19\"}, {\"_id\": \"USA_Washington_None2023-02-19\", \"_score\": 8.44867, \"location\": \"Washington\", \"confirmed_numIncrease\": 0, \"date\": \"2023-02-19\"}, {\"_id\": \"USA_NewYork_None2023-02-19\", \"_score\": 8.459766, \"location\": \"New York\", \"confirmed_numIncrease\": 0, \"date\": \"2023-02-19\"}, {\"_id\": \"USA_California_None2023-02-19\", \"_score\": 8.413436, \"location\": \"California\", \"confirmed_numIncrease\": 2, \"date\": \"2023-02-19\"}, {\"_id\": \"USA_NewYork_None2023-02-20\", \"_score\": 8.459766, \"location\": \"New York\", \"confirmed_numIncrease\": 0, \"date\": \"2023-02-20\"}, {\"_id\": \"USA_Washington_None2023-02-20\", \"_score\": 8.384675, \"location\": \"Washington\", \"confirmed_numIncrease\": 0, \"date\": \"2023-02-20\"}, {\"_id\": \"USA_Florida_None2023-02-20\", \"_score\": 8.411768, \"location\": \"Florida\", \"confirmed_numIncrease\": 0, \"date\": \"2023-02-20\"}, {\"_id\": \"USA_California_None2023-02-20\", \"_score\": 8.419768, \"location\": \"California\", \"confirmed_numIncrease\": 2, \"date\": \"2023-02-20\"}, {\"_id\": \"USA_California_None2023-02-21\", \"_score\": 8.413436, \"location\": \"California\", \"confirmed_numIncrease\": 11155, \"date\": \"2023-02-21\"}, {\"_id\": \"USA_Washington_None2023-02-21\", \"_score\": 8.44867, \"location\": \"Washington\", \"confirmed_numIncrease\": 0, \"date\": \"2023-02-21\"}, {\"_id\": \"USA_Florida_None2023-02-21\", \"_score\": 8.411768, \"location\": \"Florida\", \"confirmed_numIncrease\": 0, \"date\": \"2023-02-21\"}, {\"_id\": \"USA_NewYork_None2023-02-21\", \"_score\": 8.408236, \"location\": \"New York\", \"confirmed_numIncrease\": 11991, \"date\": \"2023-02-21\"}, {\"_id\": \"USA_Washington_None2023-02-22\", \"_score\": 8.44867, \"location\": \"Washington\", \"confirmed_numIncrease\": 4223, \"date\": \"2023-02-22\"}, {\"_id\": \"USA_NewYork_None2023-02-22\", \"_score\": 8.408236, \"location\": \"New York\", \"confirmed_numIncrease\": 0, \"date\": \"2023-02-22\"}, {\"_id\": \"USA_California_None2023-02-22\", \"_score\": 8.418888, \"location\": \"California\", \"confirmed_numIncrease\": 6, \"date\": \"2023-02-22\"}, {\"_id\": \"USA_Florida_None2023-02-22\", \"_score\": 8.502508, \"location\": \"Florida\", \"confirmed_numIncrease\": 0, \"date\": \"2023-02-22\"}, {\"_id\": \"USA_Florida_None2023-02-23\", \"_score\": 8.344111, \"location\": \"Florida\", \"confirmed_numIncrease\": 0, \"date\": \"2023-02-23\"}, {\"_id\": \"USA_California_None2023-02-23\", \"_score\": 8.413436, \"location\": \"California\", \"confirmed_numIncrease\": 9846, \"date\": \"2023-02-23\"}, {\"_id\": \"USA_Washington_None2023-02-23\", \"_score\": 8.419768, \"location\": \"Washington\", \"confirmed_numIncrease\": 0, \"date\": \"2023-02-23\"}, {\"_id\": \"USA_NewYork_None2023-02-23\", \"_score\": 8.385553, \"location\": \"New York\", \"confirmed_numIncrease\": 2775, \"date\": \"2023-02-23\"}, {\"_id\": \"USA_California_None2023-02-24\", \"_score\": 8.413436, \"location\": \"California\", \"confirmed_numIncrease\": 1736, \"date\": \"2023-02-24\"}, {\"_id\": \"USA_Washington_None2023-02-24\", \"_score\": 8.419768, \"location\": \"Washington\", \"confirmed_numIncrease\": 0, \"date\": \"2023-02-24\"}, {\"_id\": \"USA_NewYork_None2023-02-24\", \"_score\": 8.408236, \"location\": \"New York\", \"confirmed_numIncrease\": 2040, \"date\": \"2023-02-24\"}, {\"_id\": \"USA_Florida_None2023-02-24\", \"_score\": 8.344111, \"location\": \"Florida\", \"confirmed_numIncrease\": 0, \"date\": \"2023-02-24\"}, {\"_id\": \"USA_Washington_None2023-02-25\", \"_score\": 8.44867, \"location\": \"Washington\", \"confirmed_numIncrease\": 0, \"date\": \"2023-02-25\"}, {\"_id\": \"USA_Florida_None2023-02-25\", \"_score\": 8.502508, \"location\": \"Florida\", \"confirmed_numIncrease\": 0, \"date\": \"2023-02-25\"}, {\"_id\": \"USA_NewYork_None2023-02-25\", \"_score\": 8.408236, \"location\": \"New York\", \"confirmed_numIncrease\": 1010, \"date\": \"2023-02-25\"}, {\"_id\": \"USA_California_None2023-02-25\", \"_score\": 8.419768, \"location\": \"California\", \"confirmed_numIncrease\": 3, \"date\": \"2023-02-25\"}, {\"_id\": \"USA_California_None2023-02-26\", \"_score\": 8.419768, \"location\": \"California\", \"confirmed_numIncrease\": 0, \"date\": \"2023-02-26\"}, {\"_id\": \"USA_NewYork_None2023-02-26\", \"_score\": 8.408236, \"location\": \"New York\", \"confirmed_numIncrease\": 912, \"date\": \"2023-02-26\"}, {\"_id\": \"USA_Florida_None2023-02-26\", \"_score\": 8.344111, \"location\": \"Florida\", \"confirmed_numIncrease\": 0, \"date\": \"2023-02-26\"}, {\"_id\": \"USA_Washington_None2023-02-26\", \"_score\": 8.384675, \"location\": \"Washington\", \"confirmed_numIncrease\": 0, \"date\": \"2023-02-26\"}, {\"_id\": \"USA_California_None2023-02-27\", \"_score\": 8.413436, \"location\": \"California\", \"confirmed_numIncrease\": 0, \"date\": \"2023-02-27\"}, {\"_id\": \"USA_Washington_None2023-02-27\", \"_score\": 8.44867, \"location\": \"Washington\", \"confirmed_numIncrease\": 0, \"date\": \"2023-02-27\"}, {\"_id\": \"USA_NewYork_None2023-02-27\", \"_score\": 8.385553, \"location\": \"New York\", \"confirmed_numIncrease\": 2948, \"date\": \"2023-02-27\"}, {\"_id\": \"USA_Florida_None2023-02-27\", \"_score\": 8.502508, \"location\": \"Florida\", \"confirmed_numIncrease\": 0, \"date\": \"2023-02-27\"}, {\"_id\": \"USA_Washington_None2023-02-28\", \"_score\": 8.384675, \"location\": \"Washington\", \"confirmed_numIncrease\": 0, \"date\": \"2023-02-28\"}, {\"_id\": \"USA_Florida_None2023-02-28\", \"_score\": 8.411768, \"location\": \"Florida\", \"confirmed_numIncrease\": 0, \"date\": \"2023-02-28\"}, {\"_id\": \"USA_NewYork_None2023-02-28\", \"_score\": 8.385553, \"location\": \"New York\", \"confirmed_numIncrease\": 2153, \"date\": \"2023-02-28\"}, {\"_id\": \"USA_California_None2023-02-28\", \"_score\": 8.418888, \"location\": \"California\", \"confirmed_numIncrease\": 11513, \"date\": \"2023-02-28\"}, {\"_id\": \"USA_Florida_None2023-03-01\", \"_score\": 8.502508, \"location\": \"Florida\", \"confirmed_numIncrease\": 0, \"date\": \"2023-03-01\"}, {\"_id\": \"USA_NewYork_None2023-03-01\", \"_score\": 8.408236, \"location\": \"New York\", \"confirmed_numIncrease\": 423, \"date\": \"2023-03-01\"}, {\"_id\": \"USA_Washington_None2023-03-01\", \"_score\": 8.419768, \"location\": \"Washington\", \"confirmed_numIncrease\": 4495, \"date\": \"2023-03-01\"}, {\"_id\": \"USA_California_None2023-03-01\", \"_score\": 8.418888, \"location\": \"California\", \"confirmed_numIncrease\": 0, \"date\": \"2023-03-01\"}, {\"_id\": \"USA_NewYork_None2023-03-02\", \"_score\": 8.408236, \"location\": \"New York\", \"confirmed_numIncrease\": 2352, \"date\": \"2023-03-02\"}, {\"_id\": \"USA_California_None2023-03-02\", \"_score\": 8.418888, \"location\": \"California\", \"confirmed_numIncrease\": 10359, \"date\": \"2023-03-02\"}, {\"_id\": \"USA_Florida_None2023-03-02\", \"_score\": 8.344111, \"location\": \"Florida\", \"confirmed_numIncrease\": 11514, \"date\": \"2023-03-02\"}, {\"_id\": \"USA_Washington_None2023-03-02\", \"_score\": 8.384675, \"location\": \"Washington\", \"confirmed_numIncrease\": 0, \"date\": \"2023-03-02\"}, {\"_id\": \"USA_California_None2023-03-03\", \"_score\": 8.413436, \"location\": \"California\", \"confirmed_numIncrease\": 4207, \"date\": \"2023-03-03\"}, {\"_id\": \"USA_Florida_None2023-03-03\", \"_score\": 8.344111, \"location\": \"Florida\", \"confirmed_numIncrease\": 46170, \"date\": \"2023-03-03\"}, {\"_id\": \"USA_Washington_None2023-03-03\", \"_score\": 8.384675, \"location\": \"Washington\", \"confirmed_numIncrease\": 0, \"date\": \"2023-03-03\"}, {\"_id\": \"USA_NewYork_None2023-03-03\", \"_score\": 8.459766, \"location\": \"New York\", \"confirmed_numIncrease\": 1724, \"date\": \"2023-03-03\"}, {\"_id\": \"USA_NewYork_None2023-03-04\", \"_score\": 8.385553, \"location\": \"New York\", \"confirmed_numIncrease\": 973, \"date\": \"2023-03-04\"}, {\"_id\": \"USA_Washington_None2023-03-04\", \"_score\": 8.419768, \"location\": \"Washington\", \"confirmed_numIncrease\": 0, \"date\": \"2023-03-04\"}, {\"_id\": \"USA_California_None2023-03-04\", \"_score\": 8.413436, \"location\": \"California\", \"confirmed_numIncrease\": 0, \"date\": \"2023-03-04\"}, {\"_id\": \"USA_Florida_None2023-03-04\", \"_score\": 8.502508, \"location\": \"Florida\", \"confirmed_numIncrease\": 0, \"date\": \"2023-03-04\"}, {\"_id\": \"USA_Florida_None2023-03-05\", \"_score\": 8.502508, \"location\": \"Florida\", \"confirmed_numIncrease\": 0, \"date\": \"2023-03-05\"}, {\"_id\": \"USA_Washington_None2023-03-05\", \"_score\": 8.44867, \"location\": \"Washington\", \"confirmed_numIncrease\": 0, \"date\": \"2023-03-05\"}, {\"_id\": \"USA_California_None2023-03-05\", \"_score\": 8.413436, \"location\": \"California\", \"confirmed_numIncrease\": 0, \"date\": \"2023-03-05\"}, {\"_id\": \"USA_NewYork_None2023-03-05\", \"_score\": 8.459766, \"location\": \"New York\", \"confirmed_numIncrease\": 748, \"date\": \"2023-03-05\"}, {\"_id\": \"USA_California_None2023-03-06\", \"_score\": 8.418888, \"location\": \"California\", \"confirmed_numIncrease\": 0, \"date\": \"2023-03-06\"}, {\"_id\": \"USA_Florida_None2023-03-06\", \"_score\": 8.502508, \"location\": \"Florida\", \"confirmed_numIncrease\": 0, \"date\": \"2023-03-06\"}, {\"_id\": \"USA_Washington_None2023-03-06\", \"_score\": 8.419768, \"location\": \"Washington\", \"confirmed_numIncrease\": 0, \"date\": \"2023-03-06\"}, {\"_id\": \"USA_NewYork_None2023-03-06\", \"_score\": 8.459766, \"location\": \"New York\", \"confirmed_numIncrease\": 2395, \"date\": \"2023-03-06\"}, {\"_id\": \"USA_California_None2023-03-07\", \"_score\": 8.418888, \"location\": \"California\", \"confirmed_numIncrease\": 0, \"date\": \"2023-03-07\"}, {\"_id\": \"USA_Florida_None2023-03-07\", \"_score\": 8.411768, \"location\": \"Florida\", \"confirmed_numIncrease\": 0, \"date\": \"2023-03-07\"}, {\"_id\": \"USA_Washington_None2023-03-07\", \"_score\": 8.384675, \"location\": \"Washington\", \"confirmed_numIncrease\": 0, \"date\": \"2023-03-07\"}, {\"_id\": \"USA_NewYork_None2023-03-07\", \"_score\": 8.385553, \"location\": \"New York\", \"confirmed_numIncrease\": 1026, \"date\": \"2023-03-07\"}, {\"_id\": \"USA_NewYork_None2023-03-08\", \"_score\": 8.459766, \"location\": \"New York\", \"confirmed_numIncrease\": 1340, \"date\": \"2023-03-08\"}, {\"_id\": \"USA_Florida_None2023-03-08\", \"_score\": 8.411768, \"location\": \"Florida\", \"confirmed_numIncrease\": 0, \"date\": \"2023-03-08\"}, {\"_id\": \"USA_Washington_None2023-03-08\", \"_score\": 8.384675, \"location\": \"Washington\", \"confirmed_numIncrease\": 0, \"date\": \"2023-03-08\"}, {\"_id\": \"USA_California_None2023-03-08\", \"_score\": 8.413436, \"location\": \"California\", \"confirmed_numIncrease\": 8300, \"date\": \"2023-03-08\"}]}}, {\"mode\": \"vega-lite\"});\n",
       "</script>"
      ],
      "text/plain": [
       "alt.Chart(...)"
      ]
     },
     "execution_count": 18,
     "metadata": {},
     "output_type": "execute_result"
    }
   ],
   "source": [
    "state_count = state_count.loc[state_count[\"date\"].between(\"2023-01-8\", \"2023-03-08\")]\n",
    "\n",
    "#Graph it!\n",
    "alt.Chart(state_count, title = \" 90 Day SARS-COV-2 Case Count Increase in Four States\").mark_line().encode(\n",
    "x='date:T',\n",
    "y=alt.Y('confirmed_numIncrease:Q'),\n",
    "color = 'location:N').interactive()"
   ]
  },
  {
   "cell_type": "markdown",
   "id": "ef4973cf-2ac8-40c2-9274-f882fb74801f",
   "metadata": {},
   "source": [
    "## Table 2:"
   ]
  },
  {
   "cell_type": "code",
   "execution_count": null,
   "id": "a1b242fe-f692-4796-bb20-8a40c2fcb058",
   "metadata": {},
   "outputs": [],
   "source": []
  }
 ],
 "metadata": {
  "kernelspec": {
   "display_name": "test-env",
   "language": "python",
   "name": "test-env"
  },
  "language_info": {
   "codemirror_mode": {
    "name": "ipython",
    "version": 3
   },
   "file_extension": ".py",
   "mimetype": "text/x-python",
   "name": "python",
   "nbconvert_exporter": "python",
   "pygments_lexer": "ipython3",
   "version": "3.11.5"
  }
 },
 "nbformat": 4,
 "nbformat_minor": 5
}
